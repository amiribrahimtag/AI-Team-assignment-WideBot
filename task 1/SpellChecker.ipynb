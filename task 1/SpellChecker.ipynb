{
 "cells": [
  {
   "cell_type": "markdown",
   "id": "7073e741",
   "metadata": {},
   "source": [
    "### Storing the dictionary in a suitable data structure.\n",
    "* I chose to use a sorted list to store the dictionary in the SpellChecker class because it allows for efficient searching and retrieval of words. In particular, the bisect module in Python provides a way to quickly find the index where a word should be inserted into a sorted list, as well as to find the index of a word in the list if it is present.\n",
    "\n",
    "* Another advantage of using a sorted list is that it is easy to retrieve the nearest words to a given word by simply looking at the words before and after it in the list. This is because the words in the list are already in a natural order, so we can take advantage of this order to efficiently retrieve similar words.\n",
    "\n",
    "* While other data structures, such as hash tables or binary search trees, could also be used to store the dictionary, a sorted list has the advantage of being simple and easy to implement, while still providing good performance for the operations required by the SpellChecker class."
   ]
  },
  {
   "cell_type": "code",
   "execution_count": 1,
   "id": "c77abec5",
   "metadata": {},
   "outputs": [],
   "source": [
    "import bisect\n",
    "\n",
    "class SpellChecker:\n",
    "    def __init__(self, dictionary):\n",
    "        # Store the dictionary as a sorted list\n",
    "        self.dictionary = sorted(dictionary)\n",
    "        \n",
    "    def _get_similar_words(self, word, num_words=4):\n",
    "        # Find the index of the input word in the sorted list\n",
    "        index = bisect.bisect_left(self.dictionary, word)\n",
    "        # Initialize a list to store the similar words\n",
    "        similar_words = []\n",
    "        # Retrieve the two words before the input word, up to a maximum of num_words\n",
    "        i = index - 1\n",
    "        while len(similar_words) < num_words and i >= 0:\n",
    "            similar_words.append(self.dictionary[i])\n",
    "            i -= 1\n",
    "        # Retrieve the input word and the two words after it, up to a maximum of num_words\n",
    "        i = index\n",
    "        while len(similar_words) < num_words and i < len(self.dictionary):\n",
    "            similar_words.append(self.dictionary[i])\n",
    "            i += 1\n",
    "        # Return the list of similar words\n",
    "        return similar_words\n",
    "    \n",
    "    def check_spelling(self, word):\n",
    "        # Check if the input word is in the dictionary\n",
    "        if word in self.dictionary:\n",
    "            return [word]\n",
    "        # If not, retrieve the nearest four words using _get_similar_words\n",
    "        similar_words = self._get_similar_words(word)\n",
    "        return similar_words\n",
    "    \n",
    "    def add_word(self, word):\n",
    "        # Find the index where the word should be inserted into the sorted list\n",
    "        index = bisect.bisect_left(self.dictionary, word)\n",
    "        # Insert the word into the list at the correct position\n",
    "        self.dictionary.insert(index, word)"
   ]
  },
  {
   "cell_type": "markdown",
   "id": "337163e8",
   "metadata": {},
   "source": [
    "### The time and space complexity of each operation are as follows:\n",
    "\n",
    "* __init__: The sorting operation takes O(n log n) time, where n is the number of words in the dictionary. The space complexity is O(n) to store the sorted list.\n",
    "\n",
    "* _get_similar_words: The bisect operations take O(log n) time, and the while loops take O(k) time, where k is the number of similar words to retrieve. Therefore, the time complexity is O(k + log n). The space complexity is O(k) to store the list of similar words.\n",
    "\n",
    "* check_spelling: This method calls _get_similar_words, so the time complexity is the same as that method: O(k + log n). The space complexity is also O(k).\n",
    "\n",
    "* add_word: The bisect operation takes O(log n) time, and the insert operation takes O(n) time. Therefore, the time complexity is O(n + log n). The space complexity is O(1) to insert a single word into the list."
   ]
  },
  {
   "cell_type": "code",
   "execution_count": 2,
   "id": "72ee4118",
   "metadata": {},
   "outputs": [],
   "source": [
    "# Loading the dictionary\n",
    "with open('dictionary.txt', 'r') as f:\n",
    "    dictionary = [line.strip() for line in f.readlines()]"
   ]
  },
  {
   "cell_type": "code",
   "execution_count": 3,
   "id": "d306aab9",
   "metadata": {},
   "outputs": [
    {
     "data": {
      "text/plain": [
       "84099"
      ]
     },
     "execution_count": 3,
     "metadata": {},
     "output_type": "execute_result"
    }
   ],
   "source": [
    "len(dictionary)"
   ]
  },
  {
   "cell_type": "code",
   "execution_count": 4,
   "id": "477a708d",
   "metadata": {},
   "outputs": [],
   "source": [
    "# Creating spell checker  \n",
    "checker = SpellChecker(dictionary)"
   ]
  },
  {
   "cell_type": "code",
   "execution_count": 5,
   "id": "441a1200",
   "metadata": {},
   "outputs": [
    {
     "data": {
      "text/plain": [
       "['abducting']"
      ]
     },
     "execution_count": 5,
     "metadata": {},
     "output_type": "execute_result"
    }
   ],
   "source": [
    "# Checking a word already exists\n",
    "checker.check_spelling('abducting')"
   ]
  },
  {
   "cell_type": "code",
   "execution_count": 6,
   "id": "9d51b2d8",
   "metadata": {},
   "outputs": [
    {
     "data": {
      "text/plain": [
       "['abducting', 'abducted', 'abduct', 'abdominally']"
      ]
     },
     "execution_count": 6,
     "metadata": {},
     "output_type": "execute_result"
    }
   ],
   "source": [
    "# Checking a word already exists and adding 'z' letter\n",
    "checker.check_spelling('abductingZ')"
   ]
  },
  {
   "cell_type": "code",
   "execution_count": 7,
   "id": "4b214b24",
   "metadata": {},
   "outputs": [
    {
     "data": {
      "text/plain": [
       "['wide', 'wicks', 'wicklow', 'wicking']"
      ]
     },
     "execution_count": 7,
     "metadata": {},
     "output_type": "execute_result"
    }
   ],
   "source": [
    "# Checking a word doesn't exists\n",
    "checker.check_spelling('widebot')"
   ]
  },
  {
   "cell_type": "code",
   "execution_count": 8,
   "id": "c2e14d0f",
   "metadata": {},
   "outputs": [],
   "source": [
    "# Add a new word\n",
    "checker.add_word('widebot')"
   ]
  },
  {
   "cell_type": "code",
   "execution_count": 9,
   "id": "baa404f2",
   "metadata": {},
   "outputs": [
    {
     "data": {
      "text/plain": [
       "['widebot']"
      ]
     },
     "execution_count": 9,
     "metadata": {},
     "output_type": "execute_result"
    }
   ],
   "source": [
    "# Checking a word doesn't exists\n",
    "checker.check_spelling('widebot')"
   ]
  },
  {
   "cell_type": "code",
   "execution_count": null,
   "id": "28b757a1",
   "metadata": {},
   "outputs": [],
   "source": []
  }
 ],
 "metadata": {
  "kernelspec": {
   "display_name": "Python 3 (ipykernel)",
   "language": "python",
   "name": "python3"
  },
  "language_info": {
   "codemirror_mode": {
    "name": "ipython",
    "version": 3
   },
   "file_extension": ".py",
   "mimetype": "text/x-python",
   "name": "python",
   "nbconvert_exporter": "python",
   "pygments_lexer": "ipython3",
   "version": "3.10.9"
  }
 },
 "nbformat": 4,
 "nbformat_minor": 5
}
